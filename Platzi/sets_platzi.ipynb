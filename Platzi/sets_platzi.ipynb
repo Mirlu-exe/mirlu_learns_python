{
 "cells": [
  {
   "cell_type": "code",
   "execution_count": 3,
   "id": "846b73ef-33aa-49c9-9dd9-0060765af371",
   "metadata": {
    "tags": []
   },
   "outputs": [
    {
     "name": "stdout",
     "output_type": "stream",
     "text": [
      "{'mex', 'bol', 'col'}\n",
      "<class 'set'>\n",
      "{1, 2, 443, 23}\n",
      "{False, 1, 'hola', 12.12}\n",
      "{'h', 'a', 'o', 'l'}\n"
     ]
    }
   ],
   "source": [
    "'''\n",
    "01 sets\n",
    "'''\n",
    "set_countries = {'col', 'mex', 'bol'}\n",
    "\n",
    "'''un set no puede tener elementos duplicados, si se añade dos veces el mismo, el set lo borrará automaticamente'''\n",
    "\n",
    "print(set_countries)\n",
    "\n",
    "print(type(set_countries))\n",
    "\n",
    "'''se pueden tener sets tanto del mismo, como varios tipos tambien'''\n",
    "\n",
    "set_numbers = {1, 2, 2, 443, 23}\n",
    "print(set_numbers)\n",
    "\n",
    "set_types = {1, 'hola', False, 12.12}\n",
    "print(set_types)\n",
    "\n",
    "'''por ejemplo, si se imprime un string, mostrará solo los caracteres unicos, sin importar cuantas veces este repetido, por ejemplo:'''\n",
    "set_from_string = set('hooola')\n",
    "print(set_from_string)\n",
    "\n",
    "''' un conjunto apartir de una tupla '''\n",
    "set_from_tuples = set(('abc', 'cbv', 'as', 'abc'))\n",
    "print(set_from_tuples)\n",
    "\n",
    "''' un conjunto apartir de una lista '''\n",
    "numbers = [1,2,3,1,2,3,4]\n",
    "set_numbers = set(numbers)\n",
    "print(set_numbers)\n",
    "\n",
    "''' de esta manera solo te quedan los numeros unicos '''\n",
    "\n"
   ]
  },
  {
   "cell_type": "code",
   "execution_count": null,
   "id": "5fcb2289-c2a0-4c37-8dec-1bc0849135ce",
   "metadata": {},
   "outputs": [],
   "source": []
  }
 ],
 "metadata": {
  "kernelspec": {
   "display_name": "Python 3 (ipykernel)",
   "language": "python",
   "name": "python3"
  },
  "language_info": {
   "codemirror_mode": {
    "name": "ipython",
    "version": 3
   },
   "file_extension": ".py",
   "mimetype": "text/x-python",
   "name": "python",
   "nbconvert_exporter": "python",
   "pygments_lexer": "ipython3",
   "version": "3.10.11"
  }
 },
 "nbformat": 4,
 "nbformat_minor": 5
}
