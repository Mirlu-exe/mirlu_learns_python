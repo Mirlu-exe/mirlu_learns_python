{
 "cells": [
  {
   "cell_type": "code",
   "execution_count": 9,
   "id": "c361fc7e-4928-4453-8579-637c752d93e8",
   "metadata": {
    "tags": []
   },
   "outputs": [
    {
     "name": "stdout",
     "output_type": "stream",
     "text": [
      "3\n",
      "True\n",
      "False\n",
      "{'pe', 'col', 'mex', 'bol'}\n",
      "True\n",
      "{'pe', 'col', 'mex', 'bol', 'ar', 'ecu'}\n",
      "{'pe', 'col', 'mex', 'bol', 'ecu'}\n",
      "{'pe', 'col', 'mex', 'bol', 'arg', 'ecu'}\n",
      "set()\n",
      "0\n"
     ]
    }
   ],
   "source": [
    "''' \n",
    "Funciones de set:\n",
    "\n",
    "add(): Añade un elemento.\n",
    "\n",
    "update(): Añade cualquier tipo de objeto iterable como: listas, tuplas.\n",
    "\n",
    "discard(): Elimina un elemento y si ya existe no lanza ningún error.\n",
    "\n",
    "remove(): Elimina un elemento y si este no existe lanza el error “keyError”.\n",
    "\n",
    "pop(): Nos devuelve un elemento aleatorio y lo elimina y si el conjunto está vacío lanza el error “key error”.\n",
    "\n",
    "clear(): Elimina todo el contenido del conjunto.\n",
    "'''\n",
    "\n",
    "\n",
    "set_countries = {'col', 'mex', 'bol'}\n",
    "size = len(set_countries)\n",
    "print(size)\n",
    "\n",
    "print('col' in set_countries) #pregunta si existe el elemento 'col' en el set y devuelve un bool\n",
    "\n",
    "print('pe' in set_countries) #pregunta si existe el elemento 'pe' en el set y devuelve un bool\n",
    "\n",
    "# add\n",
    "set_countries.add('pe')\n",
    "print(set_countries)\n",
    "\n",
    "print('pe' in set_countries) #pregunta si existe el elemento 'pe' en el set y devuelve un bool, ya que ahora si es parte del set, vuelve verdadero\n",
    "\n",
    "# update\n",
    "set_countries.update({'ar', 'ecu', 'pe'})\n",
    "print(set_countries)\n",
    "\n",
    "# remove\n",
    "set_countries.remove('ar')\n",
    "print(set_countries)\n",
    "\n",
    "''' # discard es igual que el remove, pero el remove lanzará un error si no existe, en cambio el discard no lo hará\n",
    "set_countries.discard('arg')\n",
    "print(set_countries) '''\n",
    "\n",
    "set_countries.add('arg')\n",
    "print(set_countries)\n",
    "\n",
    "# clear\n",
    "set_countries.clear()\n",
    "print(set_countries)\n",
    "print(len(set_countries))\n",
    "#la respuesta será un set vacio"
   ]
  },
  {
   "cell_type": "code",
   "execution_count": null,
   "id": "43a94b21-fa61-414b-8126-6bddde5ab186",
   "metadata": {},
   "outputs": [],
   "source": []
  }
 ],
 "metadata": {
  "kernelspec": {
   "display_name": "Python 3 (ipykernel)",
   "language": "python",
   "name": "python3"
  },
  "language_info": {
   "codemirror_mode": {
    "name": "ipython",
    "version": 3
   },
   "file_extension": ".py",
   "mimetype": "text/x-python",
   "name": "python",
   "nbconvert_exporter": "python",
   "pygments_lexer": "ipython3",
   "version": "3.10.11"
  }
 },
 "nbformat": 4,
 "nbformat_minor": 5
}
