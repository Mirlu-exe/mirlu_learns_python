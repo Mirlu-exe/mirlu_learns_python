{
 "cells": [
  {
   "cell_type": "code",
   "execution_count": 24,
   "id": "7a4f9203-e6d0-4b3b-8540-b89c91dc20b8",
   "metadata": {
    "tags": []
   },
   "outputs": [
    {
     "name": "stdout",
     "output_type": "stream",
     "text": [
      "x =  6\n",
      "Value of 6 + 6 is 12\n",
      "x = \n",
      "8 = 8\n"
     ]
    }
   ],
   "source": [
    "\n",
    "'''\n",
    "2.1 (What does this code do?) Create the variables x = 2 and y = 3, then determine what\n",
    "each of the following statements displays:\n",
    "a) print('x =', x)\n",
    "b) print('Value of', x, '+', x, 'is', (x + x))\n",
    "c) print('x =')\n",
    "d) print((x + y), '=', (y + x))\n",
    "'''\n",
    "\n",
    "x = 6\n",
    "y = 2\n",
    "\n",
    "print('x = ', x)\n",
    "print('Value of', x, '+', x, 'is', (x+x))\n",
    "print('x = ')\n",
    "print((x+y),'=',(y+x))"
   ]
  },
  {
   "cell_type": "code",
   "execution_count": 32,
   "id": "be2de527-4a31-4111-8a4d-c21ddd24c03f",
   "metadata": {
    "tags": []
   },
   "outputs": [
    {
     "name": "stdin",
     "output_type": "stream",
     "text": [
      "Input a number between 1 and 10 6\n"
     ]
    },
    {
     "name": "stdout",
     "output_type": "stream",
     "text": [
      "36\n"
     ]
    }
   ],
   "source": [
    "'''\n",
    "2.2 (What’s wrong with this code?) The following code should calculate the square of\n",
    "a number:\n",
    "number = input(\"Input a number between 1 and 10\")\n",
    "square = number * number\n",
    "'''\n",
    "\n",
    "'''\n",
    "answer: you cant multiply a string by another string.\n",
    "'''\n",
    "number = int(input(\"Input a number between 1 and 10\"))\n",
    "square = number * number\n",
    "\n",
    "print(square)"
   ]
  },
  {
   "cell_type": "code",
   "execution_count": 35,
   "id": "4e17abc1-bdd6-482f-80b5-87de11efdb23",
   "metadata": {
    "tags": []
   },
   "outputs": [
    {
     "name": "stdout",
     "output_type": "stream",
     "text": [
      "Congratulations! Your grade of 91 earns you an A in this course\n"
     ]
    }
   ],
   "source": [
    "'''\n",
    "2.3 (Fill in the missing code) Replace *** in the following code with a statement that\n",
    "will print a message like 'Congratulations! Your grade of 91 earns you an A in this\n",
    "course'. Your statement should print the value stored in the variable grade:\n",
    "if grade >= 90:\n",
    "***\n",
    "'''\n",
    "\n",
    "grade = 106\n",
    "\n",
    "if grade >= 90:\n",
    "    print('Congratulations! Your grade of 91 earns you an A in this course')\n"
   ]
  },
  {
   "cell_type": "code",
   "execution_count": 54,
   "id": "a42d2656-c758-4731-80f6-1dbf77dade85",
   "metadata": {
    "tags": []
   },
   "outputs": [
    {
     "name": "stdout",
     "output_type": "stream",
     "text": [
      "-3\n",
      "-7\n",
      "-10\n",
      "-2.5\n",
      "-3\n",
      "-25\n",
      "2\n",
      "-2\n",
      "0\n",
      "0.0\n",
      "0\n",
      "0\n",
      "7\n",
      "3\n",
      "10\n",
      "2.5\n",
      "2\n",
      "25\n",
      "9.5\n",
      "5.5\n",
      "15.0\n",
      "3.75\n",
      "3.0\n",
      "56.25\n"
     ]
    }
   ],
   "source": [
    "'''\n",
    "2.4 (Arithmetic) Test each of the arithmetic operators +, -, *, /, // and ** with -5, 0,\n",
    "5, and 7.5 as the left operand and 2 as the right operand.\n",
    "'''\n",
    "\n",
    "print(-5 + 2)\n",
    "print(-5 - 2)\n",
    "print(-5 * 2)\n",
    "print(-5 / 2)\n",
    "print(-5 // 2)\n",
    "print(-5 ** 2)\n",
    "\n",
    "print(0 + 2)\n",
    "print(0 - 2)\n",
    "print(0 * 2)\n",
    "print(0 / 2)\n",
    "print(0 // 2)\n",
    "print(0 ** 2)\n",
    "\n",
    "print(5 + 2)\n",
    "print(5 - 2)\n",
    "print(5 * 2)\n",
    "print(5 / 2)\n",
    "print(5 // 2)\n",
    "print(5 ** 2)\n",
    "\n",
    "print(7.5 + 2)\n",
    "print(7.5 - 2)\n",
    "print(7.5 * 2)\n",
    "print(7.5 / 2)\n",
    "print(7.5 // 2)\n",
    "print(7.5 ** 2)\n"
   ]
  },
  {
   "cell_type": "code",
   "execution_count": 105,
   "id": "c9f9b56a-a19d-447a-9e6e-aead1fccdbcc",
   "metadata": {
    "tags": []
   },
   "outputs": [
    {
     "name": "stdin",
     "output_type": "stream",
     "text": [
      "Input the number of eggs to store:  28\n"
     ]
    },
    {
     "name": "stdout",
     "output_type": "stream",
     "text": [
      "To store 28 eggs, you need 5 boxes.\n",
      "The last uncompleted box has 4 eggs.\n",
      "You need 2 additional eggs to fill the last box.\n"
     ]
    }
   ],
   "source": [
    "'''\n",
    "2.5 (Eggs per Box) Typically 6 eggs fit in one box. Write a script to calculate the number\n",
    "of boxes a farmer needs to store 28 eggs. The script will also determine how many eggs\n",
    "are placed in the last uncompleted box, and how many additional eggs are needed to fill\n",
    "this last box.\n",
    "'''\n",
    "egg_amount = int(input(\"Input the number of eggs to store: \"))\n",
    "\n",
    "if(egg_amount > 0 ):\n",
    "    result = egg_amount  % 6\n",
    "\n",
    "#print(result)\n",
    "    \n",
    "    if(result > 0):\n",
    "        n_of_boxes = (int(egg_amount) // 6) + 1\n",
    "        print(\"To store \" + str(egg_amount) + \" eggs, you need \" + str(n_of_boxes) + \" boxes.\")\n",
    "        print(\"The last uncompleted box has \" + str(result) + \" eggs.\")\n",
    "        print(\"You need \" + str(6 - result) + \" additional eggs to fill the last box.\") \n",
    "    elif(result == 0):\n",
    "        n_of_boxes = int(egg_amount) // 6\n",
    "        print(\"To store \" + str(egg_amount) + \" eggs, you need \" + str(n_of_boxes) + \" boxes.\")\n",
    "\n",
    "else:\n",
    "    print(\"...thats a weird amount of eggs.\")\n",
    "        \n"
   ]
  },
  {
   "cell_type": "code",
   "execution_count": 9,
   "id": "13d28bad-246e-41ff-895b-eab75223ac3c",
   "metadata": {},
   "outputs": [
    {
     "name": "stdin",
     "output_type": "stream",
     "text": [
      "Elige un numero para ver si es par o impar 12\n"
     ]
    },
    {
     "name": "stdout",
     "output_type": "stream",
     "text": [
      "es par\n"
     ]
    }
   ],
   "source": [
    "'''\n",
    "2.6 (Odd or Even) Use if statements to determine whether an integer is odd or even.\n",
    "[Hint: Use the remainder operator. An even number is a multiple of 2. Any multiple of 2\n",
    "leaves a remainder of 0 when divided by 2.]\n",
    "'''\n",
    "number = int(input(\"Elige un numero para ver si es par o impar\"))\n",
    "\n",
    "if(number%2==0):\n",
    "    print(\"es par\")\n",
    "else:\n",
    "    print(\"es impar\")"
   ]
  },
  {
   "cell_type": "code",
   "execution_count": 13,
   "id": "3d0aa15e-bafb-4970-86bb-289d58f4e8dc",
   "metadata": {
    "tags": []
   },
   "outputs": [
    {
     "name": "stdout",
     "output_type": "stream",
     "text": [
      "there could be some remaining marbles, so it is not possible for everyone to have equal amount of marbles\n"
     ]
    }
   ],
   "source": [
    "'''\n",
    "2.7 (The Remainder Operator) Jonah wants to distribute 22 marbles among his\n",
    "4 friends. All friends should receive an equal amount of marbles. Write a script that can\n",
    "determine if this is possible.\n",
    "'''\n",
    "\n",
    "marbles = 22\n",
    "friends = 4\n",
    "\n",
    "if(marbles%friends == 0):\n",
    "    print(\"it's posible to everyone to have the same amount of marbles!\")\n",
    "else:\n",
    "    print(\"there could be some remaining marbles, so it is not possible for everyone to have equal amount of marbles\")"
   ]
  },
  {
   "attachments": {
    "12a282f2-fa9d-41cf-bb3a-dfb7cf516f2a.png": {
     "image/png": "[encoded data removed]"
    }
   },
   "cell_type": "markdown",
   "id": "c6158e3b-67be-4eb3-a0bb-fd9ff4802c9c",
   "metadata": {},
   "source": [
    "\n",
    "![Acrobat_OV9kychiX7.png](attachment:12a282f2-fa9d-41cf-bb3a-dfb7cf516f2a.png)\n"
   ]
  },
  {
   "cell_type": "code",
   "execution_count": 31,
   "id": "68e152fb-15d3-4b57-9cd5-c671e9c77014",
   "metadata": {},
   "outputs": [
    {
     "name": "stdout",
     "output_type": "stream",
     "text": [
      "Hour \t  Number of Bacteria\n",
      "   0 \t                 200\n",
      "   5 \t                6400\n",
      "  10 \t              204800\n",
      "  15 \t             6553600\n"
     ]
    }
   ],
   "source": [
    "def calculate_bacteria(n_hours):\n",
    "    hours = str(n_hours)\n",
    "    bacteria = str(200 * 2 ** n_hours) \n",
    "    tab = \"\\t\"\n",
    "    \n",
    "    print(f'{hours:>4} {tab} {bacteria:>19}')\n",
    "    \n",
    "\n",
    "print(\"Hour \\t  Number of Bacteria\" )\n",
    "calculate_bacteria(0)\n",
    "calculate_bacteria(5)\n",
    "calculate_bacteria(10)\n",
    "calculate_bacteria(15)"
   ]
  },
  {
   "cell_type": "code",
   "execution_count": 15,
   "id": "ce96a73b-e218-430f-bbd2-4c8c4b9a07d3",
   "metadata": {},
   "outputs": [
    {
     "name": "stdout",
     "output_type": "stream",
     "text": [
      "Tom goes first\n",
      "Jim = 288\n",
      "Tom = 304\n",
      "**********************************************************************************\n",
      "66\n",
      "67\n",
      "68\n",
      "98\n",
      "99\n",
      "100\n",
      "48\n",
      "49\n",
      "50\n",
      "36\n",
      "42\n",
      "43\n",
      "32\n"
     ]
    }
   ],
   "source": [
    "'''\n",
    "2.9 (Integer Value of a Character) In this chapter, you learned about strings. Each of\n",
    "a string’s characters has an integer representation. The set of characters a computer uses\n",
    "together with the characters’ integer representations is called that computer’s character set.\n",
    "You can indicate a character value in a program by enclosing that character in quotes, as\n",
    "in \"A.\" To determine a character’s integer value, call the built-in function ord. Tom and\n",
    "Jim want to play a game but are unable to choose who goes first. They decide that the\n",
    "person with the highest sum of the integer values of the characters of their name gets to\n",
    "play first. Write a script to determine who goes first.\n",
    "\n",
    "In [1]: ord('A')\n",
    "Out[1]: 65\n",
    "\n",
    "Display the integer equivalents of B C D b c d 0 1 2 $ * + and the space character.\n",
    "'''\n",
    "\n",
    "sum1 = ord('J') + ord('i') + ord('m')\n",
    "\n",
    "sum2 = ord('T') + ord('o') + ord('m')\n",
    "\n",
    "if sum1 > sum2:\n",
    "    print(\"Jim goes first\")\n",
    "    \n",
    "else:\n",
    "    print(\"Tom goes first\")\n",
    "\n",
    "print(\"Jim = \" + str(sum1))\n",
    "print(\"Tom = \" + str(sum2))\n",
    "\n",
    "\n",
    "print(\"**********************************************************************************\")\n",
    "\n",
    "print(ord('B'))\n",
    "print(ord('C'))\n",
    "print(ord('D'))\n",
    "print(ord('b'))\n",
    "print(ord('c'))\n",
    "print(ord('d'))\n",
    "print(ord('0'))\n",
    "print(ord('1'))\n",
    "print(ord('2'))\n",
    "print(ord('$'))\n",
    "print(ord('*'))\n",
    "print(ord('+'))\n",
    "print(ord(' '))\n"
   ]
  },
  {
   "cell_type": "code",
   "execution_count": 18,
   "id": "662416d8-2548-4229-b295-24c6839b0a5e",
   "metadata": {},
   "outputs": [
    {
     "name": "stdin",
     "output_type": "stream",
     "text": [
      "Insert math grade 3\n",
      "Insert history grade 8\n",
      "Insert biology grade 10\n"
     ]
    },
    {
     "name": "stdout",
     "output_type": "stream",
     "text": [
      "the average grade of the three grades is: 7\n",
      "the lowest grade is Math with the grade score of: 3 points.\n",
      "the highest grade is Biology with the grade score of: 10 points.\n"
     ]
    }
   ],
   "source": [
    "'''\n",
    "2.10 (Arithmetic, Highest and Lowest) Write a script that inputs the grades (in integers)\n",
    "of 3 courses from the user. First display the average grade of the three courses, and then\n",
    "the names and the grades of the courses with the highest and the lowest grades.\n",
    "''' \n",
    "\n",
    "#WIP\n",
    "\n",
    "math_grade = int(input(\"Insert math grade\"))\n",
    "history_grade = int(input(\"Insert history grade\"))\n",
    "biology_grade = int(input(\"Insert biology grade\"))\n",
    "\n",
    "average_grade= (math_grade + history_grade + biology_grade) // 3\n",
    "\n",
    "print(\"the average grade of the three grades is: \" + str(average_grade) + \"\")\n",
    "\n",
    "#calcular grados\n",
    "lowest_grade = min(math_grade, history_grade, biology_grade)\n",
    "highest_grade = max(math_grade, history_grade, biology_grade)\n",
    "\n",
    "#asignar nombre de menor grado\n",
    "if(lowest_grade == math_grade):\n",
    "    lowest_grade_name = \"Math\"\n",
    "elif(lowest_grade == history_grade):  \n",
    "    lowest_grade_name = \"History\"\n",
    "elif(lowest_grade == biology_grade):  \n",
    "    lowest_grade_name = \"Biology\"    \n",
    "    \n",
    "#asignar nombre de mayor grado\n",
    "if(highest_grade == math_grade):\n",
    "    highest_grade_name = \"Math\"\n",
    "elif(highest_grade == history_grade):  \n",
    "    highest_grade_name = \"History\"\n",
    "elif(highest_grade == biology_grade):  \n",
    "    highest_grade_name = \"Biology\"    \n",
    "\n",
    "print(\"the lowest grade is \" + lowest_grade_name +  \" with the grade score of: \" + str(lowest_grade) + \" points.\"  )\n",
    "print(\"the highest grade is \" + highest_grade_name +  \" with the grade score of: \" + str(highest_grade) + \" points.\"  )\n",
    "\n",
    "\n"
   ]
  },
  {
   "cell_type": "code",
   "execution_count": 4,
   "id": "188bf56e-5da0-45bf-9da6-77896621b948",
   "metadata": {},
   "outputs": [
    {
     "name": "stdin",
     "output_type": "stream",
     "text": [
      "inserte los segundos: 3750\n"
     ]
    },
    {
     "name": "stdout",
     "output_type": "stream",
     "text": [
      "1:02:30\n"
     ]
    }
   ],
   "source": [
    "'''\n",
    "2.11 (Calculating Time) Write a script that inputs a number of seconds from the user.\n",
    "Calculate the number of hours, minutes, and remaining seconds. Print them separated by\n",
    "“ - ”. For example, if the user types 3750 seconds as input, the script should print:\n",
    "1 - 2 - 30\n",
    "Assume that the user enters a number of seconds that is higher than 3600. Use both the floor\n",
    "division and the remainder operation to calculate the number of hours, minutes, and seconds.\n",
    "'''\n",
    "\n",
    "seconds = int(input(\"inserte los segundos:\"))\n",
    "\n",
    "seconds = seconds % (24 * 3600)\n",
    "hour = seconds // 3600\n",
    "seconds %= 3600\n",
    "minutes = seconds // 60\n",
    "seconds %= 60\n",
    "\n",
    "print(\"%d:%02d:%02d\" % (hour, minutes, seconds))"
   ]
  },
  {
   "cell_type": "code",
   "execution_count": 15,
   "id": "1909e63d-c75d-4ac6-ad6d-eb73cf83ea24",
   "metadata": {},
   "outputs": [
    {
     "name": "stdout",
     "output_type": "stream",
     "text": [
      "Only Good reviews for 5 years: $11.59\n",
      "Only Bad reviews for 2 years: $8.94\n",
      "Total with both bad and good reviews for 7 years: $10.53\n"
     ]
    }
   ],
   "source": [
    "'''\n",
    "2.12 (Hourly Wage Calculator) Every year, if an employee receives a good job performance\n",
    "review, they get a raise of 3% on their wages. In turn, if they receive a suboptimal performance\n",
    "review, their wages are deducted by 3%. Consider an employee starting with an hourly wage\n",
    "of $10. Calculate how much this employee is earning after 5 years of consistent good reviews\n",
    "and after 2 years of bad reviews. Use the following formula to calculate these wages:\n",
    "w = o(1 + p)n\n",
    "where\n",
    "w is the new hourly wage,\n",
    "o is the original hourly wage,\n",
    "p is the percentage increase or decrease, and\n",
    "n is the number of years with an increase or decrease in hourly wage.\n",
    "'''\n",
    "\n",
    "#variables base\n",
    "o = 10\n",
    "p = 0.03\n",
    "\n",
    "# 5 años de reviews buenos\n",
    "n= 5\n",
    "good_w= o * ((1 + p) ** n)\n",
    "\n",
    "print(\"Only Good reviews for 5 years: ${:,.2f}\".format(good_w))\n",
    "\n",
    "# 2 años de reviews malos\n",
    "n= 2\n",
    "bad_w= o - ((1 + p) ** n)\n",
    "\n",
    "print(\"Only Bad reviews for 2 years: ${:,.2f}\".format(bad_w))\n",
    "\n",
    "# Total\n",
    "n= 2\n",
    "total_w= good_w - ((1 + p) ** n)\n",
    "print(\"Total with both bad and good reviews for 7 years: ${:,.2f}\".format(total_w))"
   ]
  },
  {
   "cell_type": "code",
   "execution_count": 11,
   "id": "5b15dd38-2a3a-4231-900a-e025c72d91fd",
   "metadata": {},
   "outputs": [
    {
     "name": "stdout",
     "output_type": "stream",
     "text": [
      "5357543035931336604742125245300009052807024058527668037218751941851755255624680612465991894078479290637973364587765734125935726428461570217992288787349287401967283887412115492710537302531185570938977091076523237491790970633699383779582771973038531457285598238843271083830214915826312193418602834034688000000000000000000000000000000000000000000000000000000000000000000000000000000000000000000000000000000000000000000000000000000000000000000000000000000000000000000000000000000000000000000000000000000000000000000000000000000000000000000000000000000000000000000000000000000000000000000000000000000000000000000000000000000000000000000000000000000000000000000000000000000000000000000000000000000000000000000000000000000000000000000000000000000000000000000000000000000000000000000000000000000000000000000000000000000000000000000000000000000000000000000000000000000000000000000000000000000000000000000000000000000000000000000000000000000000000000000000000000000000000000000000000000000000000000000000000000000000000000000000000000000000000000000000000000000000000000000000000000000000000000000000000000000000000000000000000000000000000000000000000000000000000000000000000000000000000000000000000000000000000000000000000000000000000000000000000000000000000000000000000000000000000000000000000000000000000000\n"
     ]
    }
   ],
   "source": [
    "'''\n",
    "2.13 (How Big Can Python Integers Be?) We’ll answer this question later in the book.\n",
    "For now, use the exponentiation operator ** with large and very large exponents to produce\n",
    "some huge integers and assign those to the variable number to see if Python accepts\n",
    "them. Did you find any integer value that Python won’t accept?\n",
    "'''\n",
    "\n",
    "#it accepts this one\n",
    "number= 20**999\n",
    "print(str(number))\n",
    "\n",
    "#but it wont accept this one\n",
    "#number= 20**9999\n",
    "#print(str(number))\n"
   ]
  },
  {
   "cell_type": "code",
   "execution_count": 18,
   "id": "d7ed5eae-d72c-4d02-9779-b7ed1aa697a0",
   "metadata": {},
   "outputs": [
    {
     "name": "stdin",
     "output_type": "stream",
     "text": [
      "Enter your age in years:  24\n"
     ]
    },
    {
     "name": "stdout",
     "output_type": "stream",
     "text": [
      "Your maximun heart rate is: 196 beats per minute.  \n",
      "And your target heart rate is between: 98.0 - 166.6 beats per minute.\n"
     ]
    }
   ],
   "source": [
    "'''\n",
    "2.14 (Target Heart-Rate Calculator) While exercising, you can use a heart-rate monitor\n",
    "to see that your heart rate stays within a safe range suggested by your doctors and trainers.\n",
    "According to the American Heart Association (AHA) (http://bit.ly/AHATargetHeart-\n",
    "Rates), the formula for calculating your maximum heart rate in beats per minute is 220\n",
    "minus your age in years. Your target heart rate is 50–85% of your maximum heart rate.\n",
    "Write a script that prompts for and inputs the user’s age and calculates and displays the\n",
    "user’s maximum heart rate and the range of the user’s target heart rate. [These formulas\n",
    "are estimates provided by the AHA; maximum and target heart rates may vary based on\n",
    "the health, fitness and gender of the individual. Always consult a physician or qualified\n",
    "healthcare professional before beginning or modifying an exercise program.]\n",
    "'''\n",
    "\n",
    "\n",
    "age= int(input(\"Enter your age in years: \"))\n",
    "max_hr = 220 - age\n",
    "\n",
    "min_rnge_trgt_hr = max_heart_rate * 0.50\n",
    "max_rnge_trgt_hr = max_heart_rate * 0.85\n",
    "\n",
    "txt=\"Your maximun heart rate is: \" + str(max_hr) + \" beats per minute.  \\nAnd your target heart rate is between: \" + str(min_rnge_trgt_hr) + \" - \" + str(max_rnge_trgt_hr) + \" beats per minute.\"\n",
    "\n",
    "print(txt)\n"
   ]
  },
  {
   "cell_type": "code",
   "execution_count": 11,
   "id": "a9d5d2b1-f129-438f-8366-04ce1fa863f1",
   "metadata": {},
   "outputs": [
    {
     "name": "stdin",
     "output_type": "stream",
     "text": [
      "please enter the first runner time 20.56\n",
      "please enter the second runner time 90.5\n",
      "please enter the third runner time 45.20\n"
     ]
    },
    {
     "name": "stdout",
     "output_type": "stream",
     "text": [
      "Third place is:  90.5\n",
      "Second place is:  45.2\n",
      "First place is:  20.56\n"
     ]
    }
   ],
   "source": [
    "'''\n",
    "2.15 (Sort in Ascending Order) After a running competition, three runners want to determine\n",
    "who won based on the time they needed to complete the course. Write a script\n",
    "that inputs the time they took through three different floating-point numbers (in seconds)\n",
    "from the user. Display the numbers in increasing order. Prove that your script works by\n",
    "running it on all six possible orderings of the numbers. Does your script work with duplicate\n",
    "numbers? [This is challenging. In later chapters, you’ll learn a more convenient way\n",
    "to do this with many more numbers.]\n",
    "'''\n",
    "runner1 = float(input(\"please enter the first runner time in seconds\"))\n",
    "runner2 = float(input(\"please enter the second runner time in seconds\"))\n",
    "runner3 = float(input(\"please enter the third runner time in seconds\"))\n",
    "\n",
    "tp = max(runner1, runner2, runner3)\n",
    "\n",
    "fp = min(runner1, runner2, runner3)\n",
    "\n",
    "\n",
    "if runner1 < tp and runner1 > fp:\n",
    "    sp = runner1\n",
    "\n",
    "if runner2 < tp and runner2 > fp:\n",
    "    sp = runner2    \n",
    "\n",
    "if runner3 < tp and runner3 > fp:\n",
    "    sp = runner3   \n",
    "\n",
    "    \n",
    "print(\"Third place is: \" , tp )     \n",
    "print(\"Second place is: \" , sp )   \n",
    "print(\"First place is: \" , fp )\n",
    "\n"
   ]
  },
  {
   "cell_type": "code",
   "execution_count": null,
   "id": "08dd0f79-69d1-4ead-b062-d5254bbd560d",
   "metadata": {},
   "outputs": [],
   "source": []
  }
 ],
 "metadata": {
  "kernelspec": {
   "display_name": "Python 3 (ipykernel)",
   "language": "python",
   "name": "python3"
  },
  "language_info": {
   "codemirror_mode": {
    "name": "ipython",
    "version": 3
   },
   "file_extension": ".py",
   "mimetype": "text/x-python",
   "name": "python",
   "nbconvert_exporter": "python",
   "pygments_lexer": "ipython3",
   "version": "3.10.11"
  }
 },
 "nbformat": 4,
 "nbformat_minor": 5
}
