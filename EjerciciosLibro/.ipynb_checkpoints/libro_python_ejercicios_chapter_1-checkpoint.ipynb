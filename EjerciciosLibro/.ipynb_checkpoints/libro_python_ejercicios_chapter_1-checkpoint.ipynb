{
 "cells": [
  {
   "cell_type": "code",
   "execution_count": null,
   "id": "22e203c8-220f-461f-be7d-8d716a0990fa",
   "metadata": {},
   "outputs": [],
   "source": []
  },
  {
   "cell_type": "code",
   "execution_count": 44,
   "id": "e5b652c1-52ee-4217-87fa-538d57ca5539",
   "metadata": {
    "tags": []
   },
   "outputs": [
    {
     "name": "stdout",
     "output_type": "stream",
     "text": [
      "2.5\n",
      "2\n",
      "0.0\n",
      "0\n"
     ]
    }
   ],
   "source": [
    "'''\n",
    "1.1 (IPython Session) Using the techniques you learned in Section 1.10.1, execute the\n",
    "following expressions. Evaluate why each expression returns the given result:\n",
    "a) 5 / 2\n",
    "b) 5 // 2\n",
    "c) 5 / 0\n",
    "d) 5 // 0\n",
    "e) 0 / 5\n",
    "f) 0 // 5\n",
    "'''\n",
    "\n",
    "print(5/2) #division\n",
    "print(5//2) #integer division\n",
    "#print(5/0) #division by zero error\n",
    "#print(5//0)#integer division by zero error\n",
    "print(0/5) # division\n",
    "print(0//5) #integer division"
   ]
  },
  {
   "cell_type": "code",
   "execution_count": 51,
   "id": "ba3cf594-4eca-481a-b60b-d7d8c70c49b7",
   "metadata": {
    "tags": []
   },
   "outputs": [
    {
     "name": "stdout",
     "output_type": "stream",
     "text": [
      "10.333333333333334\n",
      "10\n",
      "1.0\n",
      "0.3333333333333335\n"
     ]
    }
   ],
   "source": [
    "'''\n",
    "\n",
    "1.2 (IPython Session) Using the techniques you learned in Section 1.10.1, execute the\n",
    "following expressions. Which, if any, produce a runtime error?\n",
    "a) 10 / 3 + 7\n",
    "b) 10 // 3 + 7\n",
    "c) 10 / (3 + 7)\n",
    "d) 10 / 3 - 3\n",
    "e) 10 / (3 - 3)\n",
    "f) 10 // (3 - 3)\n",
    "\n",
    "'''\n",
    "\n",
    "print(10 / 3 + 7)\n",
    "print(10 // 3 + 7)\n",
    "print(10 / (3 + 7))\n",
    "print(10 / 3 - 3 ) #this one is ok since the order is first division, and then substraction\n",
    "#this one produces a zero division error 10 / (3 - 3) \n",
    "#this one produces a zero division error 10 // (3 - 3)"
   ]
  }
 ],
 "metadata": {
  "kernelspec": {
   "display_name": "Python 3 (ipykernel)",
   "language": "python",
   "name": "python3"
  },
  "language_info": {
   "codemirror_mode": {
    "name": "ipython",
    "version": 3
   },
   "file_extension": ".py",
   "mimetype": "text/x-python",
   "name": "python",
   "nbconvert_exporter": "python",
   "pygments_lexer": "ipython3",
   "version": "3.10.11"
  }
 },
 "nbformat": 4,
 "nbformat_minor": 5
}
